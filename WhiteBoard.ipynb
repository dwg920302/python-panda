{
 "cells": [
  {
   "cell_type": "code",
   "execution_count": 1,
   "id": "d615a18c",
   "metadata": {},
   "outputs": [],
   "source": [
    "import pandas as pd\n",
    "import numpy as np\n",
    "# 26. 객체의 각 행에 대해 세번째 NaN 값이 들어 있는 열을 찾으시오. 일련의 열 레이블을 반환해야 합니다.\n",
    "# 답은 e, c, d, h, d 입니다."
   ]
  },
  {
   "cell_type": "code",
   "execution_count": 9,
   "id": "2dd898b0",
   "metadata": {},
   "outputs": [
    {
     "data": {
      "text/html": [
       "<div>\n",
       "<style scoped>\n",
       "    .dataframe tbody tr th:only-of-type {\n",
       "        vertical-align: middle;\n",
       "    }\n",
       "\n",
       "    .dataframe tbody tr th {\n",
       "        vertical-align: top;\n",
       "    }\n",
       "\n",
       "    .dataframe thead th {\n",
       "        text-align: right;\n",
       "    }\n",
       "</style>\n",
       "<table border=\"1\" class=\"dataframe\">\n",
       "  <thead>\n",
       "    <tr style=\"text-align: right;\">\n",
       "      <th></th>\n",
       "      <th>a</th>\n",
       "      <th>b</th>\n",
       "      <th>c</th>\n",
       "      <th>d</th>\n",
       "      <th>e</th>\n",
       "      <th>f</th>\n",
       "      <th>g</th>\n",
       "      <th>h</th>\n",
       "      <th>i</th>\n",
       "      <th>j</th>\n",
       "    </tr>\n",
       "  </thead>\n",
       "  <tbody>\n",
       "    <tr>\n",
       "      <th>0</th>\n",
       "      <td>0.04</td>\n",
       "      <td>NaN</td>\n",
       "      <td>NaN</td>\n",
       "      <td>0.25</td>\n",
       "      <td>NaN</td>\n",
       "      <td>0.43</td>\n",
       "      <td>0.71</td>\n",
       "      <td>0.51</td>\n",
       "      <td>NaN</td>\n",
       "      <td>NaN</td>\n",
       "    </tr>\n",
       "    <tr>\n",
       "      <th>1</th>\n",
       "      <td>NaN</td>\n",
       "      <td>NaN</td>\n",
       "      <td>NaN</td>\n",
       "      <td>0.04</td>\n",
       "      <td>0.76</td>\n",
       "      <td>NaN</td>\n",
       "      <td>NaN</td>\n",
       "      <td>0.67</td>\n",
       "      <td>0.76</td>\n",
       "      <td>0.16</td>\n",
       "    </tr>\n",
       "    <tr>\n",
       "      <th>2</th>\n",
       "      <td>NaN</td>\n",
       "      <td>NaN</td>\n",
       "      <td>0.50</td>\n",
       "      <td>NaN</td>\n",
       "      <td>0.31</td>\n",
       "      <td>0.40</td>\n",
       "      <td>NaN</td>\n",
       "      <td>NaN</td>\n",
       "      <td>0.24</td>\n",
       "      <td>0.01</td>\n",
       "    </tr>\n",
       "    <tr>\n",
       "      <th>3</th>\n",
       "      <td>0.49</td>\n",
       "      <td>NaN</td>\n",
       "      <td>NaN</td>\n",
       "      <td>0.62</td>\n",
       "      <td>0.73</td>\n",
       "      <td>0.26</td>\n",
       "      <td>0.85</td>\n",
       "      <td>NaN</td>\n",
       "      <td>NaN</td>\n",
       "      <td>NaN</td>\n",
       "    </tr>\n",
       "    <tr>\n",
       "      <th>4</th>\n",
       "      <td>NaN</td>\n",
       "      <td>NaN</td>\n",
       "      <td>0.41</td>\n",
       "      <td>NaN</td>\n",
       "      <td>0.05</td>\n",
       "      <td>NaN</td>\n",
       "      <td>0.61</td>\n",
       "      <td>NaN</td>\n",
       "      <td>0.48</td>\n",
       "      <td>0.68</td>\n",
       "    </tr>\n",
       "  </tbody>\n",
       "</table>\n",
       "</div>"
      ],
      "text/plain": [
       "      a   b     c     d     e     f     g     h     i     j\n",
       "0  0.04 NaN   NaN  0.25   NaN  0.43  0.71  0.51   NaN   NaN\n",
       "1   NaN NaN   NaN  0.04  0.76   NaN   NaN  0.67  0.76  0.16\n",
       "2   NaN NaN  0.50   NaN  0.31  0.40   NaN   NaN  0.24  0.01\n",
       "3  0.49 NaN   NaN  0.62  0.73  0.26  0.85   NaN   NaN   NaN\n",
       "4   NaN NaN  0.41   NaN  0.05   NaN  0.61   NaN  0.48  0.68"
      ]
     },
     "execution_count": 9,
     "metadata": {},
     "output_type": "execute_result"
    }
   ],
   "source": [
    "nan = np.nan\n",
    "data = [[0.04,  nan,  nan, 0.25,  nan, 0.43, 0.71, 0.51,  nan,  nan],\n",
    "        [ nan,  nan,  nan, 0.04, 0.76,  nan,  nan, 0.67, 0.76, 0.16],\n",
    "        [ nan,  nan, 0.5 ,  nan, 0.31, 0.4 ,  nan,  nan, 0.24, 0.01],\n",
    "        [0.49,  nan,  nan, 0.62, 0.73, 0.26, 0.85,  nan,  nan,  nan],\n",
    "        [ nan,  nan, 0.41,  nan, 0.05,  nan, 0.61,  nan, 0.48, 0.68]]\n",
    "columns = list('abcdefghij')\n",
    "df = pd.DataFrame(data, columns=columns)\n",
    "df"
   ]
  },
  {
   "cell_type": "code",
   "execution_count": null,
   "id": "1590326d",
   "metadata": {},
   "outputs": [],
   "source": [
    "df.columns.values"
   ]
  },
  {
   "cell_type": "code",
   "execution_count": null,
   "id": "4f149eab",
   "metadata": {},
   "outputs": [],
   "source": [
    "df.index.values"
   ]
  },
  {
   "cell_type": "code",
   "execution_count": 11,
   "id": "359cc6a1",
   "metadata": {},
   "outputs": [
    {
     "data": {
      "text/plain": [
       "[0, 0, 0, 0, 0]"
      ]
     },
     "execution_count": 11,
     "metadata": {},
     "output_type": "execute_result"
    }
   ],
   "source": [
    "cnt = [0 for i in df.index.values]\n",
    "cnt"
   ]
  },
  {
   "cell_type": "code",
   "execution_count": null,
   "id": "ebd1f5cc",
   "metadata": {},
   "outputs": [],
   "source": [
    "df.loc[0, 'a']"
   ]
  },
  {
   "cell_type": "code",
   "execution_count": 12,
   "id": "1ab15dc4",
   "metadata": {},
   "outputs": [
    {
     "name": "stdout",
     "output_type": "stream",
     "text": [
      "    a   b     c     d     e    f     g     h     i     j\n",
      "1 NaN NaN   NaN  0.04  0.76  NaN   NaN  0.67  0.76  0.16\n",
      "2 NaN NaN  0.50   NaN  0.31  0.4   NaN   NaN  0.24  0.01\n",
      "4 NaN NaN  0.41   NaN  0.05  NaN  0.61   NaN  0.48  0.68\n",
      "[0, 1, 1, 0, 1]\n",
      "      a   b     c     d     e     f     g     h     i     j\n",
      "0  0.04 NaN   NaN  0.25   NaN  0.43  0.71  0.51   NaN   NaN\n",
      "1   NaN NaN   NaN  0.04  0.76   NaN   NaN  0.67  0.76  0.16\n",
      "2   NaN NaN  0.50   NaN  0.31  0.40   NaN   NaN  0.24  0.01\n",
      "3  0.49 NaN   NaN  0.62  0.73  0.26  0.85   NaN   NaN   NaN\n",
      "4   NaN NaN  0.41   NaN  0.05   NaN  0.61   NaN  0.48  0.68\n",
      "[1, 2, 2, 1, 2]\n",
      "      a   b   c     d     e     f     g     h     i     j\n",
      "0  0.04 NaN NaN  0.25   NaN  0.43  0.71  0.51   NaN   NaN\n",
      "1   NaN NaN NaN  0.04  0.76   NaN   NaN  0.67  0.76  0.16\n",
      "3  0.49 NaN NaN  0.62  0.73  0.26  0.85   NaN   NaN   NaN\n",
      "[2, 3, 2, 2, 2]\n",
      "    a   b     c   d     e    f     g   h     i     j\n",
      "2 NaN NaN  0.50 NaN  0.31  0.4   NaN NaN  0.24  0.01\n",
      "4 NaN NaN  0.41 NaN  0.05  NaN  0.61 NaN  0.48  0.68\n",
      "[2, 3, 3, 2, 3]\n",
      "      a   b   c     d   e     f     g     h   i   j\n",
      "0  0.04 NaN NaN  0.25 NaN  0.43  0.71  0.51 NaN NaN\n",
      "[3, 3, 3, 2, 3]\n",
      "    a   b     c     d     e   f     g     h     i     j\n",
      "1 NaN NaN   NaN  0.04  0.76 NaN   NaN  0.67  0.76  0.16\n",
      "4 NaN NaN  0.41   NaN  0.05 NaN  0.61   NaN  0.48  0.68\n",
      "[3, 4, 3, 2, 4]\n",
      "    a   b    c     d     e    f   g     h     i     j\n",
      "1 NaN NaN  NaN  0.04  0.76  NaN NaN  0.67  0.76  0.16\n",
      "2 NaN NaN  0.5   NaN  0.31  0.4 NaN   NaN  0.24  0.01\n",
      "[3, 5, 4, 2, 4]\n",
      "      a   b     c     d     e     f     g   h     i     j\n",
      "2   NaN NaN  0.50   NaN  0.31  0.40   NaN NaN  0.24  0.01\n",
      "3  0.49 NaN   NaN  0.62  0.73  0.26  0.85 NaN   NaN   NaN\n",
      "4   NaN NaN  0.41   NaN  0.05   NaN  0.61 NaN  0.48  0.68\n",
      "[3, 5, 5, 3, 5]\n",
      "      a   b   c     d     e     f     g     h   i   j\n",
      "0  0.04 NaN NaN  0.25   NaN  0.43  0.71  0.51 NaN NaN\n",
      "3  0.49 NaN NaN  0.62  0.73  0.26  0.85   NaN NaN NaN\n",
      "[4, 5, 5, 4, 5]\n",
      "      a   b   c     d     e     f     g     h   i   j\n",
      "0  0.04 NaN NaN  0.25   NaN  0.43  0.71  0.51 NaN NaN\n",
      "3  0.49 NaN NaN  0.62  0.73  0.26  0.85   NaN NaN NaN\n",
      "[5, 5, 5, 5, 5]\n"
     ]
    },
    {
     "data": {
      "text/plain": [
       "['e', 'c', 'd', 'h', 'd']"
      ]
     },
     "execution_count": 12,
     "metadata": {},
     "output_type": "execute_result"
    }
   ],
   "source": [
    "answer = ['' for i in df.index.values]\n",
    "for i in df.columns.values:\n",
    "    gette = df.loc[df[i].isnull()]\n",
    "    for j in gette.index.values:\n",
    "        cnt[j] += 1\n",
    "        if cnt[j] == 3:\n",
    "            answer[j] = i\n",
    "answer"
   ]
  },
  {
   "cell_type": "code",
   "execution_count": null,
   "id": "8da1e729",
   "metadata": {},
   "outputs": [],
   "source": []
  }
 ],
 "metadata": {
  "kernelspec": {
   "display_name": "Python 3",
   "language": "python",
   "name": "python3"
  },
  "language_info": {
   "codemirror_mode": {
    "name": "ipython",
    "version": 3
   },
   "file_extension": ".py",
   "mimetype": "text/x-python",
   "name": "python",
   "nbconvert_exporter": "python",
   "pygments_lexer": "ipython3",
   "version": "3.8.8"
  }
 },
 "nbformat": 4,
 "nbformat_minor": 5
}
